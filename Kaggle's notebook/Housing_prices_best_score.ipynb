{
 "metadata": {
  "language_info": {
   "codemirror_mode": {
    "name": "ipython",
    "version": 3
   },
   "file_extension": ".py",
   "mimetype": "text/x-python",
   "name": "python",
   "nbconvert_exporter": "python",
   "pygments_lexer": "ipython3",
   "version": "3.9.1-final"
  },
  "orig_nbformat": 2,
  "kernelspec": {
   "name": "python3",
   "display_name": "Python 3.9.1 64-bit",
   "metadata": {
    "interpreter": {
     "hash": "63fd5069d213b44bf678585dea6b12cceca9941eaf7f819626cde1f2670de90d"
    }
   }
  }
 },
 "nbformat": 4,
 "nbformat_minor": 2,
 "cells": [
  {
   "source": [
    "import pandas as pd \n",
    "import numpy as np \n",
    "house_file = 'Housing_prices.csv'\n",
    "house_data = pd.read_csv(house_file)"
   ],
   "cell_type": "code",
   "metadata": {},
   "execution_count": 84,
   "outputs": []
  },
  {
   "source": [
    "for columns in house_data:\n",
    "    if house_data[columns].isnull().sum() >1000:\n",
    "        house_data = house_data.drop(columns, axis = 1)"
   ],
   "cell_type": "code",
   "metadata": {},
   "execution_count": 85,
   "outputs": []
  },
  {
   "cell_type": "code",
   "execution_count": 86,
   "metadata": {},
   "outputs": [],
   "source": [
    "house_data.fillna(0, inplace= True)"
   ]
  },
  {
   "cell_type": "code",
   "execution_count": 87,
   "metadata": {},
   "outputs": [],
   "source": [
    "y = house_data.SalePrice.astype(np.float32, copy= False)\n",
    "features = ['LotFrontage', 'LotArea', 'MoSold','YrSold']\n",
    "X = house_data[features].astype(np.float32, copy = False)"
   ]
  },
  {
   "source": [
    "from sklearn.tree import DecisionTreeRegressor\n",
    "from sklearn.model_selection import train_test_split\n",
    "from sklearn.metrics import mean_absolute_error "
   ],
   "cell_type": "code",
   "metadata": {},
   "execution_count": 88,
   "outputs": []
  },
  {
   "cell_type": "code",
   "execution_count": 89,
   "metadata": {},
   "outputs": [],
   "source": [
    "train_X, val_X, train_y, val_y = train_test_split(X,y, random_state=1)"
   ]
  },
  {
   "cell_type": "code",
   "execution_count": 90,
   "metadata": {},
   "outputs": [
    {
     "output_type": "execute_result",
     "data": {
      "text/plain": [
       "DecisionTreeRegressor(random_state=1)"
      ]
     },
     "metadata": {},
     "execution_count": 90
    }
   ],
   "source": [
    "house_model.fit(train_X, train_y)"
   ]
  },
  {
   "cell_type": "code",
   "execution_count": 91,
   "metadata": {},
   "outputs": [
    {
     "output_type": "stream",
     "name": "stdout",
     "text": [
      "62409.77534246576\n"
     ]
    }
   ],
   "source": [
    "predictions = house_model.predict(val_X)\n",
    "val_mae = mean_absolute_error(val_y, predictions)\n",
    "print(val_mae)"
   ]
  },
  {
   "cell_type": "code",
   "execution_count": 92,
   "metadata": {},
   "outputs": [],
   "source": [
    "def get_mae(max_leaf_nodes, train_X, val_x, train_y, val_Y):\n",
    "    model = DecisionTreeRegressor(max_leaf_nodes=max_leaf_nodes, random_state=0)\n",
    "    model.fit(train_X, train_y)\n",
    "    predict_val = model.predict(val_X)\n",
    "    mae = mean_absolute_error(val_y, predict_val)\n",
    "    return (mae)"
   ]
  },
  {
   "cell_type": "code",
   "execution_count": 93,
   "metadata": {},
   "outputs": [
    {
     "output_type": "stream",
     "name": "stdout",
     "text": [
      "5 51475.11845672607\n25 50632.628548172936\n50 51577.69772125109\n100 54860.18111548307\n250 60531.033244187274\n500 62620.446878370654\n"
     ]
    }
   ],
   "source": [
    "possible_max_leaf_nodes = [5, 25, 50, 100, 250, 500]\n",
    "for max_leaf_nodes in possible_max_leaf_nodes:\n",
    "    my_mae = get_mae(max_leaf_nodes, train_X, val_X, train_y, val_y)\n",
    "    print(max_leaf_nodes, my_mae)"
   ]
  },
  {
   "cell_type": "code",
   "execution_count": 94,
   "metadata": {},
   "outputs": [
    {
     "output_type": "stream",
     "name": "stdout",
     "text": [
      "5\n"
     ]
    }
   ],
   "source": [
    "score = {leaf_size: get_mae(max_leaf_nodes, train_X, val_X, train_y, val_y) for leaf_size in possible_max_leaf_nodes}\n",
    "best_size_nodes = min(score, key= score.get)\n",
    "print(best_size_nodes)"
   ]
  },
  {
   "cell_type": "code",
   "execution_count": 95,
   "metadata": {},
   "outputs": [
    {
     "output_type": "execute_result",
     "data": {
      "text/plain": [
       "DecisionTreeRegressor(max_leaf_nodes=5, random_state=0)"
      ]
     },
     "metadata": {},
     "execution_count": 95
    }
   ],
   "source": [
    "house_final_model = DecisionTreeRegressor(max_leaf_nodes= best_size_nodes, random_state = 0)\n",
    "house_final_model.fit(X, y)\n"
   ]
  },
  {
   "cell_type": "code",
   "execution_count": 96,
   "metadata": {},
   "outputs": [
    {
     "output_type": "stream",
     "name": "stdout",
     "text": [
      "49694.58277767755\n"
     ]
    }
   ],
   "source": [
    "predictions_final = house_final_model.predict(X)\n",
    "val_mae = mean_absolute_error(y, predictions_final)\n",
    "print(val_mae)"
   ]
  },
  {
   "cell_type": "code",
   "execution_count": null,
   "metadata": {},
   "outputs": [],
   "source": []
  }
 ]
}